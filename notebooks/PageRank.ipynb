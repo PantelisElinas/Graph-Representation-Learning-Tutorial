{
 "cells": [
  {
   "cell_type": "markdown",
   "metadata": {},
   "source": [
    "## PageRank\n",
    "\n",
    "A practical undestanding of PageRank and Personalised PageRank aglorithms.\n",
    "\n",
    "Copyright 2010-2021 Commonwealth Scientific and Industrial Research Organisation (CSIRO).\n",
    "\n",
    "All Rights Reserved."
   ]
  },
  {
   "cell_type": "code",
   "execution_count": null,
   "metadata": {},
   "outputs": [],
   "source": [
    "import numpy as np\n",
    "import networkx as nx\n",
    "import matplotlib.pyplot as plt"
   ]
  },
  {
   "cell_type": "markdown",
   "metadata": {},
   "source": [
    "### Generate Random Graph\n",
    "\n",
    "Graph has 5 nodes and two nodes are connected with an edge with probability given by **p**."
   ]
  },
  {
   "cell_type": "code",
   "execution_count": null,
   "metadata": {},
   "outputs": [],
   "source": [
    "G = nx.generators.random_graphs.fast_gnp_random_graph(n=5, p=0.5, seed=42)"
   ]
  },
  {
   "cell_type": "markdown",
   "metadata": {},
   "source": [
    "Visualise the graph"
   ]
  },
  {
   "cell_type": "code",
   "execution_count": null,
   "metadata": {},
   "outputs": [],
   "source": [
    "nx.draw(G, node_size=1000, with_labels=True, font_color='w', font_size=16)"
   ]
  },
  {
   "cell_type": "markdown",
   "metadata": {},
   "source": [
    "Get the graph adjacency matrix; the graph is undirected so A is symmetric."
   ]
  },
  {
   "cell_type": "code",
   "execution_count": null,
   "metadata": {},
   "outputs": [],
   "source": [
    "A = nx.adjacency_matrix(G).todense()"
   ]
  },
  {
   "cell_type": "code",
   "execution_count": null,
   "metadata": {},
   "outputs": [],
   "source": [
    "A"
   ]
  },
  {
   "cell_type": "markdown",
   "metadata": {},
   "source": [
    "## What do powers of the adjacency matrix, $A^n$, represent?"
   ]
  },
  {
   "cell_type": "markdown",
   "metadata": {},
   "source": [
    "What does $A^2$ look like?"
   ]
  },
  {
   "cell_type": "code",
   "execution_count": null,
   "metadata": {},
   "outputs": [],
   "source": [
    "A @ A"
   ]
  },
  {
   "cell_type": "markdown",
   "metadata": {},
   "source": [
    "The matrix $A^2$ tells us for each node in the graph in how many different ways we can reach other nodes in the graph in $2$ steps."
   ]
  },
  {
   "cell_type": "code",
   "execution_count": null,
   "metadata": {},
   "outputs": [],
   "source": [
    "A @ A @ A"
   ]
  },
  {
   "cell_type": "markdown",
   "metadata": {},
   "source": [
    "The matrix $A^3$ tells us for each node in the graph how many different ways we can reach other nodes in the graph in 3 steps.\n",
    "\n",
    "So, the matrix $A^n$ stores the number of paths of length $n$ for every pair of nodes in the graph."
   ]
  },
  {
   "cell_type": "markdown",
   "metadata": {},
   "source": [
    "### The transition matrix for a random walker\n",
    "\n",
    "Consider a random walker that starts at some node in the graph and then follows edges uniformly at random.\n",
    "\n",
    "What is the probability of the walker being at node $v$ after $n$ steps?\n",
    "\n",
    "We can calculate the transition probabilities for any node using $AD^{-1}$ where $D$ is the degree matrix."
   ]
  },
  {
   "cell_type": "code",
   "execution_count": null,
   "metadata": {},
   "outputs": [],
   "source": [
    "D_inv = 1.0 / A.sum(axis=1)\n",
    "D_inv = np.diagflat(D_inv)\n",
    "D_inv"
   ]
  },
  {
   "cell_type": "code",
   "execution_count": null,
   "metadata": {},
   "outputs": [],
   "source": [
    "A"
   ]
  },
  {
   "cell_type": "markdown",
   "metadata": {},
   "source": [
    "Now we can calculate the transition matrix."
   ]
  },
  {
   "cell_type": "code",
   "execution_count": null,
   "metadata": {},
   "outputs": [],
   "source": [
    "P = A @ D_inv"
   ]
  },
  {
   "cell_type": "code",
   "execution_count": null,
   "metadata": {},
   "outputs": [],
   "source": [
    "P"
   ]
  },
  {
   "cell_type": "markdown",
   "metadata": {},
   "source": [
    "Entry $i, j$ in $P$ tells us the probability of a random walker moving from $j$ to $i$ in one step."
   ]
  },
  {
   "cell_type": "markdown",
   "metadata": {},
   "source": [
    "What happens if we take powers of $P$, e.g, $P^n$ for $n>1$?"
   ]
  },
  {
   "cell_type": "code",
   "execution_count": null,
   "metadata": {},
   "outputs": [],
   "source": [
    "from numpy.linalg import matrix_power as mp"
   ]
  },
  {
   "cell_type": "code",
   "execution_count": null,
   "metadata": {},
   "outputs": [],
   "source": [
    "mp(P, 2)"
   ]
  },
  {
   "cell_type": "markdown",
   "metadata": {},
   "source": [
    "It tell us the probability of a random walker taking $2$ random steps of being found at node $i$ if he started at node $j$.\n",
    "\n",
    "So, $P^n$ tells us the probability of finding the random walker at node $i$ after $n$ steps."
   ]
  },
  {
   "cell_type": "markdown",
   "metadata": {},
   "source": [
    "So, what happens if I keep increasing n?"
   ]
  },
  {
   "cell_type": "code",
   "execution_count": null,
   "metadata": {},
   "outputs": [],
   "source": [
    "mp(P, 3)"
   ]
  },
  {
   "cell_type": "code",
   "execution_count": null,
   "metadata": {},
   "outputs": [],
   "source": [
    "mp(P, 4)"
   ]
  },
  {
   "cell_type": "code",
   "execution_count": null,
   "metadata": {},
   "outputs": [],
   "source": [
    "mp(P, 10)"
   ]
  },
  {
   "cell_type": "code",
   "execution_count": null,
   "metadata": {},
   "outputs": [],
   "source": [
    "mp(P, 11)"
   ]
  },
  {
   "cell_type": "code",
   "execution_count": null,
   "metadata": {},
   "outputs": [],
   "source": [
    "mp(P, 100)"
   ]
  },
  {
   "cell_type": "code",
   "execution_count": null,
   "metadata": {},
   "outputs": [],
   "source": [
    "mp(P, 101)"
   ]
  },
  {
   "cell_type": "code",
   "execution_count": null,
   "metadata": {},
   "outputs": [],
   "source": [
    "mp(P, 102)"
   ]
  },
  {
   "cell_type": "markdown",
   "metadata": {},
   "source": [
    "### Converged to the stationary distribution!\n",
    "\n",
    "It turns out that it does not matter what node the random walker started from."
   ]
  },
  {
   "cell_type": "code",
   "execution_count": null,
   "metadata": {},
   "outputs": [],
   "source": [
    "P_s = mp(P, 100)"
   ]
  },
  {
   "cell_type": "markdown",
   "metadata": {},
   "source": [
    "Consider starting a walk at node 1. We can denote this using an indicator vector $i$."
   ]
  },
  {
   "cell_type": "code",
   "execution_count": null,
   "metadata": {},
   "outputs": [],
   "source": [
    "i = np.zeros((5,1))\n",
    "i[1, 0] = 1\n",
    "i"
   ]
  },
  {
   "cell_type": "markdown",
   "metadata": {},
   "source": [
    "The probability of finding the walker at each of the $5$ nodes is given by $P_s i$"
   ]
  },
  {
   "cell_type": "code",
   "execution_count": null,
   "metadata": {},
   "outputs": [],
   "source": [
    "P_s @ i"
   ]
  },
  {
   "cell_type": "markdown",
   "metadata": {},
   "source": [
    "which happens to be the $i$-th column of $P_s$."
   ]
  },
  {
   "cell_type": "markdown",
   "metadata": {},
   "source": [
    "Note that we can calculate the entries in the above vector analytically by taking the ratio of the node's degree divided by 2 times the number of edges in the graph.\n",
    "\n",
    "Our graph has 6 edges and the degree of node 0 is 3 which gives $3/(2*6)=0.25$."
   ]
  },
  {
   "cell_type": "markdown",
   "metadata": {},
   "source": [
    "We can calculate PageRank using Networkx building method."
   ]
  },
  {
   "cell_type": "code",
   "execution_count": null,
   "metadata": {},
   "outputs": [],
   "source": [
    "# alpha is a dampening factor that is usually set to a value less than 1. Here we set it to 1 to\n",
    "# match the above calculation.\n",
    "nx.pagerank(G, alpha=1.0)"
   ]
  },
  {
   "cell_type": "markdown",
   "metadata": {},
   "source": [
    "We can think of these values as indicating the importance of a node. The more important nodes are those where the random walker has a higher probability of ending his walk."
   ]
  },
  {
   "cell_type": "markdown",
   "metadata": {},
   "source": [
    "## Personalised PageRank\n",
    "\n",
    "The problem with PageRank is that the stationary distribution is independent of the walker's starting node. Personalised PageRank corrects for this by introducing a teleport probability that indicates the probability of the walker jumping (or teleporting) back to the starting node at each step.\n",
    "\n",
    "Let's calculate the Personalised PageRank stationary distribution using a closed form solution."
   ]
  },
  {
   "cell_type": "code",
   "execution_count": null,
   "metadata": {},
   "outputs": [],
   "source": [
    "alpha = 0.1\n",
    "I = np.identity(5)"
   ]
  },
  {
   "cell_type": "code",
   "execution_count": null,
   "metadata": {},
   "outputs": [],
   "source": [
    "PP_s = alpha * mp(( I - ( 1- alpha)* P), -1)"
   ]
  },
  {
   "cell_type": "code",
   "execution_count": null,
   "metadata": {},
   "outputs": [],
   "source": [
    "PP_s"
   ]
  },
  {
   "cell_type": "markdown",
   "metadata": {},
   "source": [
    "Note that the columns are now different! **So, the stationary distribution depends on the starting node**."
   ]
  },
  {
   "cell_type": "markdown",
   "metadata": {},
   "source": [
    "### Personalised PageRank\n",
    "\n",
    "Solve: $\\pi_{ppr}(i_x)=(1-\\alpha)\\bar{A}\\pi_{ppr}(i_x)+\\alpha i_x$.\n",
    "\n",
    "We want to solve for $\\pi_{ppr}(i_x)$ so we move some of the terms around as follows,\n",
    "\n",
    "Let $\\bar{A} = AD^{-1}$ or any other probability transition matrix.\n",
    "\n",
    "$\\pi_{ppr}(i_x)=(1-\\alpha)\\bar{A}\\pi_{ppr}(i_x)+\\alpha i_x \\Rightarrow$ \n",
    "\n",
    "$\\pi_{ppr}(i_x)-(1-\\alpha)\\bar{A}\\pi_{ppr}(i_x)=\\alpha i_x \\Rightarrow$\n",
    "\n",
    "$\\left(I_n-(1-\\alpha)\\bar{A}\\right)\\pi_{ppr}(i_x)=\\alpha i_x \\Rightarrow$\n",
    "\n",
    "$\\frac{\\left(I_n-(1-\\alpha)\\bar{A}\\right)\\pi_{ppr}(i_x)}{\\left(I_n-(1-\\alpha)\\bar{A}\\right)}=\\frac{\\alpha i_x}{\\left(I_n-(1-\\alpha)\\bar{A}\\right)} \\Rightarrow$\n",
    "\n",
    "$\\pi_{ppr}(i_x)=\\alpha \\left(I_n-(1-\\alpha)\\bar{A}\\right)^{-1}i_x$"
   ]
  }
 ],
 "metadata": {
  "kernelspec": {
   "display_name": "GRL Course",
   "language": "python",
   "name": "grl-course-env"
  },
  "language_info": {
   "codemirror_mode": {
    "name": "ipython",
    "version": 3
   },
   "file_extension": ".py",
   "mimetype": "text/x-python",
   "name": "python",
   "nbconvert_exporter": "python",
   "pygments_lexer": "ipython3",
   "version": "3.7.11"
  }
 },
 "nbformat": 4,
 "nbformat_minor": 2
}
